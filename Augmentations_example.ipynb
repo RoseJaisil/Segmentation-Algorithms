{
  "nbformat": 4,
  "nbformat_minor": 0,
  "metadata": {
    "colab": {
      "provenance": [],
      "authorship_tag": "ABX9TyM2oEV+CQRsceeNtym2QtVC",
      "include_colab_link": true
    },
    "kernelspec": {
      "name": "python3",
      "display_name": "Python 3"
    },
    "language_info": {
      "name": "python"
    }
  },
  "cells": [
    {
      "cell_type": "markdown",
      "metadata": {
        "id": "view-in-github",
        "colab_type": "text"
      },
      "source": [
        "<a href=\"https://colab.research.google.com/github/RoseJaisil/Segmentation-Algorithms/blob/main/Augmentations_example.ipynb\" target=\"_parent\"><img src=\"https://colab.research.google.com/assets/colab-badge.svg\" alt=\"Open In Colab\"/></a>"
      ]
    },
    {
      "cell_type": "markdown",
      "source": [
        "Augmentation examples"
      ],
      "metadata": {
        "id": "_JFkoU45D2C8"
      }
    },
    {
      "cell_type": "markdown",
      "source": [
        "Install libraries"
      ],
      "metadata": {
        "id": "wZOR9Q0aD5x2"
      }
    },
    {
      "cell_type": "code",
      "source": [
        "!pip install -q kaggle"
      ],
      "metadata": {
        "id": "Tqzi9m4zEA7Q"
      },
      "execution_count": 2,
      "outputs": []
    },
    {
      "cell_type": "code",
      "source": [
        "from google.colab import files\n",
        "files.upload()"
      ],
      "metadata": {
        "colab": {
          "base_uri": "https://localhost:8080/",
          "height": 90
        },
        "id": "508OU7p_EtQM",
        "outputId": "f5ad7a3e-182c-43bb-f5f3-d4961f657c8f"
      },
      "execution_count": 8,
      "outputs": [
        {
          "output_type": "display_data",
          "data": {
            "text/plain": [
              "<IPython.core.display.HTML object>"
            ],
            "text/html": [
              "\n",
              "     <input type=\"file\" id=\"files-cd6158a9-f505-471a-a428-7ef69f267b37\" name=\"files[]\" multiple disabled\n",
              "        style=\"border:none\" />\n",
              "     <output id=\"result-cd6158a9-f505-471a-a428-7ef69f267b37\">\n",
              "      Upload widget is only available when the cell has been executed in the\n",
              "      current browser session. Please rerun this cell to enable.\n",
              "      </output>\n",
              "      <script>// Copyright 2017 Google LLC\n",
              "//\n",
              "// Licensed under the Apache License, Version 2.0 (the \"License\");\n",
              "// you may not use this file except in compliance with the License.\n",
              "// You may obtain a copy of the License at\n",
              "//\n",
              "//      http://www.apache.org/licenses/LICENSE-2.0\n",
              "//\n",
              "// Unless required by applicable law or agreed to in writing, software\n",
              "// distributed under the License is distributed on an \"AS IS\" BASIS,\n",
              "// WITHOUT WARRANTIES OR CONDITIONS OF ANY KIND, either express or implied.\n",
              "// See the License for the specific language governing permissions and\n",
              "// limitations under the License.\n",
              "\n",
              "/**\n",
              " * @fileoverview Helpers for google.colab Python module.\n",
              " */\n",
              "(function(scope) {\n",
              "function span(text, styleAttributes = {}) {\n",
              "  const element = document.createElement('span');\n",
              "  element.textContent = text;\n",
              "  for (const key of Object.keys(styleAttributes)) {\n",
              "    element.style[key] = styleAttributes[key];\n",
              "  }\n",
              "  return element;\n",
              "}\n",
              "\n",
              "// Max number of bytes which will be uploaded at a time.\n",
              "const MAX_PAYLOAD_SIZE = 100 * 1024;\n",
              "\n",
              "function _uploadFiles(inputId, outputId) {\n",
              "  const steps = uploadFilesStep(inputId, outputId);\n",
              "  const outputElement = document.getElementById(outputId);\n",
              "  // Cache steps on the outputElement to make it available for the next call\n",
              "  // to uploadFilesContinue from Python.\n",
              "  outputElement.steps = steps;\n",
              "\n",
              "  return _uploadFilesContinue(outputId);\n",
              "}\n",
              "\n",
              "// This is roughly an async generator (not supported in the browser yet),\n",
              "// where there are multiple asynchronous steps and the Python side is going\n",
              "// to poll for completion of each step.\n",
              "// This uses a Promise to block the python side on completion of each step,\n",
              "// then passes the result of the previous step as the input to the next step.\n",
              "function _uploadFilesContinue(outputId) {\n",
              "  const outputElement = document.getElementById(outputId);\n",
              "  const steps = outputElement.steps;\n",
              "\n",
              "  const next = steps.next(outputElement.lastPromiseValue);\n",
              "  return Promise.resolve(next.value.promise).then((value) => {\n",
              "    // Cache the last promise value to make it available to the next\n",
              "    // step of the generator.\n",
              "    outputElement.lastPromiseValue = value;\n",
              "    return next.value.response;\n",
              "  });\n",
              "}\n",
              "\n",
              "/**\n",
              " * Generator function which is called between each async step of the upload\n",
              " * process.\n",
              " * @param {string} inputId Element ID of the input file picker element.\n",
              " * @param {string} outputId Element ID of the output display.\n",
              " * @return {!Iterable<!Object>} Iterable of next steps.\n",
              " */\n",
              "function* uploadFilesStep(inputId, outputId) {\n",
              "  const inputElement = document.getElementById(inputId);\n",
              "  inputElement.disabled = false;\n",
              "\n",
              "  const outputElement = document.getElementById(outputId);\n",
              "  outputElement.innerHTML = '';\n",
              "\n",
              "  const pickedPromise = new Promise((resolve) => {\n",
              "    inputElement.addEventListener('change', (e) => {\n",
              "      resolve(e.target.files);\n",
              "    });\n",
              "  });\n",
              "\n",
              "  const cancel = document.createElement('button');\n",
              "  inputElement.parentElement.appendChild(cancel);\n",
              "  cancel.textContent = 'Cancel upload';\n",
              "  const cancelPromise = new Promise((resolve) => {\n",
              "    cancel.onclick = () => {\n",
              "      resolve(null);\n",
              "    };\n",
              "  });\n",
              "\n",
              "  // Wait for the user to pick the files.\n",
              "  const files = yield {\n",
              "    promise: Promise.race([pickedPromise, cancelPromise]),\n",
              "    response: {\n",
              "      action: 'starting',\n",
              "    }\n",
              "  };\n",
              "\n",
              "  cancel.remove();\n",
              "\n",
              "  // Disable the input element since further picks are not allowed.\n",
              "  inputElement.disabled = true;\n",
              "\n",
              "  if (!files) {\n",
              "    return {\n",
              "      response: {\n",
              "        action: 'complete',\n",
              "      }\n",
              "    };\n",
              "  }\n",
              "\n",
              "  for (const file of files) {\n",
              "    const li = document.createElement('li');\n",
              "    li.append(span(file.name, {fontWeight: 'bold'}));\n",
              "    li.append(span(\n",
              "        `(${file.type || 'n/a'}) - ${file.size} bytes, ` +\n",
              "        `last modified: ${\n",
              "            file.lastModifiedDate ? file.lastModifiedDate.toLocaleDateString() :\n",
              "                                    'n/a'} - `));\n",
              "    const percent = span('0% done');\n",
              "    li.appendChild(percent);\n",
              "\n",
              "    outputElement.appendChild(li);\n",
              "\n",
              "    const fileDataPromise = new Promise((resolve) => {\n",
              "      const reader = new FileReader();\n",
              "      reader.onload = (e) => {\n",
              "        resolve(e.target.result);\n",
              "      };\n",
              "      reader.readAsArrayBuffer(file);\n",
              "    });\n",
              "    // Wait for the data to be ready.\n",
              "    let fileData = yield {\n",
              "      promise: fileDataPromise,\n",
              "      response: {\n",
              "        action: 'continue',\n",
              "      }\n",
              "    };\n",
              "\n",
              "    // Use a chunked sending to avoid message size limits. See b/62115660.\n",
              "    let position = 0;\n",
              "    do {\n",
              "      const length = Math.min(fileData.byteLength - position, MAX_PAYLOAD_SIZE);\n",
              "      const chunk = new Uint8Array(fileData, position, length);\n",
              "      position += length;\n",
              "\n",
              "      const base64 = btoa(String.fromCharCode.apply(null, chunk));\n",
              "      yield {\n",
              "        response: {\n",
              "          action: 'append',\n",
              "          file: file.name,\n",
              "          data: base64,\n",
              "        },\n",
              "      };\n",
              "\n",
              "      let percentDone = fileData.byteLength === 0 ?\n",
              "          100 :\n",
              "          Math.round((position / fileData.byteLength) * 100);\n",
              "      percent.textContent = `${percentDone}% done`;\n",
              "\n",
              "    } while (position < fileData.byteLength);\n",
              "  }\n",
              "\n",
              "  // All done.\n",
              "  yield {\n",
              "    response: {\n",
              "      action: 'complete',\n",
              "    }\n",
              "  };\n",
              "}\n",
              "\n",
              "scope.google = scope.google || {};\n",
              "scope.google.colab = scope.google.colab || {};\n",
              "scope.google.colab._files = {\n",
              "  _uploadFiles,\n",
              "  _uploadFilesContinue,\n",
              "};\n",
              "})(self);\n",
              "</script> "
            ]
          },
          "metadata": {}
        },
        {
          "output_type": "stream",
          "name": "stdout",
          "text": [
            "Saving kaggle.json to kaggle.json\n"
          ]
        },
        {
          "output_type": "execute_result",
          "data": {
            "text/plain": [
              "{'kaggle.json': b'{\"username\":\"cvformedicalimages\",\"key\":\"2f64bcdeb3bc442fd96bc4af68e1c862\"}'}"
            ]
          },
          "metadata": {},
          "execution_count": 8
        }
      ]
    },
    {
      "cell_type": "code",
      "source": [
        "!cp kaggle.json ~/.kaggle/"
      ],
      "metadata": {
        "id": "MVMVwoAjE_hD"
      },
      "execution_count": 9,
      "outputs": []
    },
    {
      "cell_type": "code",
      "source": [
        "!chmod 600 ~/.kaggle/kaggle.json"
      ],
      "metadata": {
        "id": "3YJQPoUAFZ1u"
      },
      "execution_count": 10,
      "outputs": []
    },
    {
      "cell_type": "code",
      "source": [
        "!kaggle datasets download -d nikhilpandey360/chest-xray-masks-and-labels"
      ],
      "metadata": {
        "colab": {
          "base_uri": "https://localhost:8080/"
        },
        "id": "kK4vrnJlEIzc",
        "outputId": "6a268433-ed1c-4df3-ccc5-abb7d1083c94"
      },
      "execution_count": 11,
      "outputs": [
        {
          "output_type": "stream",
          "name": "stdout",
          "text": [
            "Downloading chest-xray-masks-and-labels.zip to /content\n",
            "100% 9.58G/9.58G [02:01<00:00, 139MB/s]\n",
            "100% 9.58G/9.58G [02:01<00:00, 84.8MB/s]\n"
          ]
        }
      ]
    },
    {
      "cell_type": "code",
      "source": [
        "!unzip chest-xray-masks-and-labels.zip -d chest-xray-masks-and-labels"
      ],
      "metadata": {
        "id": "UzIhVluoGVo0"
      },
      "execution_count": null,
      "outputs": []
    },
    {
      "cell_type": "markdown",
      "source": [
        "Let's explore the dataset"
      ],
      "metadata": {
        "id": "_tG9zxlxHgcm"
      }
    },
    {
      "cell_type": "code",
      "source": [
        "image_path = os.listdir(\"/content/chest-xray-masks-and-labels/Lung Segmentation/CXR_png/\")"
      ],
      "metadata": {
        "id": "tlV2yn7bH-aX"
      },
      "execution_count": 14,
      "outputs": []
    },
    {
      "cell_type": "code",
      "source": [
        "len(image_path)"
      ],
      "metadata": {
        "colab": {
          "base_uri": "https://localhost:8080/"
        },
        "id": "kG0a7aSUIHWi",
        "outputId": "1b2bc492-801f-4cfe-b9c6-1c70e8596d12"
      },
      "execution_count": 15,
      "outputs": [
        {
          "output_type": "execute_result",
          "data": {
            "text/plain": [
              "800"
            ]
          },
          "metadata": {},
          "execution_count": 15
        }
      ]
    },
    {
      "cell_type": "code",
      "source": [
        "mask_path = os.listdir(\"/content/chest-xray-masks-and-labels/Lung Segmentation/masks/\")"
      ],
      "metadata": {
        "id": "009WmxMFIKVb"
      },
      "execution_count": 16,
      "outputs": []
    },
    {
      "cell_type": "code",
      "source": [
        "len(mask_path)"
      ],
      "metadata": {
        "colab": {
          "base_uri": "https://localhost:8080/"
        },
        "id": "8D6H1MmoIYwi",
        "outputId": "96f6d92d-4ec9-41eb-d49f-690d0cda9d10"
      },
      "execution_count": 17,
      "outputs": [
        {
          "output_type": "execute_result",
          "data": {
            "text/plain": [
              "704"
            ]
          },
          "metadata": {},
          "execution_count": 17
        }
      ]
    },
    {
      "cell_type": "code",
      "source": [
        "# Create a folder\n",
        "# !mkdir train_images"
      ],
      "metadata": {
        "id": "wvWL_GDTJNDR"
      },
      "execution_count": 18,
      "outputs": []
    },
    {
      "cell_type": "code",
      "source": [
        "# make sub_folders for the 20 images and their respective masks\n",
        "# !mkdir augmented\n",
        "# !mkdir augmented/aug_images\n",
        "# !mkdir augmented/aug_masks"
      ],
      "metadata": {
        "id": "ySy6bihvJaBC"
      },
      "execution_count": 57,
      "outputs": []
    },
    {
      "cell_type": "code",
      "source": [
        "# move 20 images from the main dataset to the new folders\n",
        "# img_path = \"/content/chest-xray-masks-and-labels/Lung Segmentation/CXR_png/\"\n",
        "# new_img_path = \"/content/train_images/images/\"\n",
        "# msk_path = \"/content/chest-xray-masks-and-labels/Lung Segmentation/masks/\"\n",
        "# new_msk_path = \"/content/train_images/masks/\"\n",
        "# image_ids = next(os.walk(img_path))[2]\n",
        "# mask_ids = next(os.walk(msk_path))[2]\n",
        "# n = 1 \n",
        "# for i in range(25):\n",
        "#   mask_file_name = image_ids[i].split('.png')[0]+'_mask.png'\n",
        "#   if mask_file_name in mask_ids:\n",
        "#     shutil.move(img_path+image_ids[i], new_img_path)\n",
        "#     shutil.move(msk_path+mask_file_name, new_msk_path)\n",
        "#   n = n+1\n",
        "#   if n == 20:\n",
        "#     break\n"
      ],
      "metadata": {
        "id": "x1BGYJsmKXKl"
      },
      "execution_count": 51,
      "outputs": []
    },
    {
      "cell_type": "code",
      "source": [
        "# !zip -r sam_aug_data.zip /content/train_images"
      ],
      "metadata": {
        "id": "MFzIwGf_Zmsx"
      },
      "execution_count": null,
      "outputs": []
    },
    {
      "cell_type": "code",
      "source": [
        "# if you want to remove files from a folder this is the code\n",
        "folder_name = '/content/augmented/aug_masks'\n",
        "for f in os.listdir(folder_name):\n",
        "  os.remove(os.path.join(folder_name, f))"
      ],
      "metadata": {
        "id": "gezQzCb9Wxts"
      },
      "execution_count": 92,
      "outputs": []
    },
    {
      "cell_type": "markdown",
      "source": [
        "Until here the data has been explored and prepared. Now let's do the main part"
      ],
      "metadata": {
        "id": "184Rk6FgaiQ9"
      }
    },
    {
      "cell_type": "markdown",
      "source": [
        "Import libraries"
      ],
      "metadata": {
        "id": "6SPVQUtk047m"
      }
    },
    {
      "cell_type": "code",
      "execution_count": 54,
      "metadata": {
        "id": "6NP2GLqL0thz"
      },
      "outputs": [],
      "source": [
        "import numpy as np\n",
        "import shutil\n",
        "from matplotlib import pyplot as plt\n",
        "from skimage.transform import AffineTransform, warp\n",
        "from skimage import io, img_as_ubyte\n",
        "import random\n",
        "import os\n",
        "from scipy.ndimage import rotate\n",
        "import albumentations as A\n",
        "from tqdm import tqdm"
      ]
    },
    {
      "cell_type": "markdown",
      "source": [
        "Let's start"
      ],
      "metadata": {
        "id": "GltEjequ1jet"
      }
    },
    {
      "cell_type": "code",
      "source": [
        "number_of_images_to_be_generated = 100\n",
        "\n",
        "img_path = \"/content/train_images/images/\"\n",
        "msk_path = \"/content/train_images/masks/\"\n",
        "aug_img_path = \"/content/augmented/aug_images/\"\n",
        "aug_msk_path = \"/content/augmented/aug_masks/\"\n",
        "\n",
        "images = []\n",
        "masks = [] \n",
        "\n",
        "# Reading image\n",
        "print(\"Reading the input images name and stacking them in a list...\")\n",
        "\n",
        "for img in next(os.walk(img_path))[2]:\n",
        "  images.append(os.path.join(img_path, img))\n",
        "\n",
        "print(\"Reading the mask images name and stacking them in a list...\")\n",
        "\n",
        "for msk in next(os.walk(msk_path))[2]:\n",
        "  masks.append(os.path.join(msk_path, msk))\n",
        "\n",
        "# Composing the augmentor\n",
        "print(\"Composing the augmentor...\")\n",
        "print(\"Note: Keras augmentation changes the image properties\")\n",
        "\n",
        "augmentor = A.Compose([\n",
        "    A.VerticalFlip(p=0.5),\n",
        "    A.RandomRotate90(p=0.5),\n",
        "    A.HorizontalFlip(p=1),\n",
        "    A.Transpose(p=1),\n",
        "    A.GridDistortion(p=1)\n",
        "])\n"
      ],
      "metadata": {
        "colab": {
          "base_uri": "https://localhost:8080/"
        },
        "id": "HNQuncKu1u8A",
        "outputId": "578d7476-afb9-4b6e-98a9-e7c5e1ebb78a"
      },
      "execution_count": 93,
      "outputs": [
        {
          "output_type": "stream",
          "name": "stdout",
          "text": [
            "Reading the input images name and stacking them in a list...\n",
            "Reading the mask images name and stacking them in a list...\n",
            "Composing the augmentor...\n",
            "Note: Keras augmentation changes the image properties\n"
          ]
        }
      ]
    },
    {
      "cell_type": "code",
      "source": [
        "i = 1 # initiator for the while loop\n",
        "while i<=number_of_images_to_be_generated:\n",
        "  # select an image randomly\n",
        "  num = random.randint(0, len(images)-1)\n",
        "  image_name = images[num]\n",
        "  mask_name = masks[num]\n",
        "\n",
        "  image = io.imread(image_name)\n",
        "  \n",
        "  mask = io.imread(mask_name)\n",
        "  print(mask_name)\n",
        "\n",
        "  # Good thing is you can augment both the image and mask with the same properties\n",
        "  augmented_image_n_mask = augmentor(image=image, mask=mask)\n",
        "  augmented_image = augmented_image_n_mask['image']\n",
        "  augmented_mask = augmented_image_n_mask['mask']\n",
        "\n",
        "  new_img_path = \"%s/augmented_image_%s.png\" %(aug_img_path, i)\n",
        "  new_msk_path = \"%s/augmented_mask_%s.png\" %(aug_msk_path, i)\n",
        "  io.imsave(new_img_path, augmented_image)\n",
        "  io.imsave(new_msk_path, augmented_mask)\n",
        "  i = i+1\n",
        "\n"
      ],
      "metadata": {
        "id": "qZNOgxzGeTDW"
      },
      "execution_count": null,
      "outputs": []
    },
    {
      "cell_type": "markdown",
      "source": [
        "Reference: @author: Sreenivas Bhattiprolu\n",
        "https://github.com/bnsreenu"
      ],
      "metadata": {
        "id": "nMANp-_J9RzY"
      }
    }
  ]
}