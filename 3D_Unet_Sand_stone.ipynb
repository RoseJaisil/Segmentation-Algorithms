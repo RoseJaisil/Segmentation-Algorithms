{
  "nbformat": 4,
  "nbformat_minor": 0,
  "metadata": {
    "colab": {
      "provenance": [],
      "gpuType": "T4",
      "mount_file_id": "1JArDhrUlEBiOP41vnRBOig5PLJgMJFsd",
      "authorship_tag": "ABX9TyNzSRQPKZDuTnsFQjZ7/e5i",
      "include_colab_link": true
    },
    "kernelspec": {
      "name": "python3",
      "display_name": "Python 3"
    },
    "language_info": {
      "name": "python"
    },
    "accelerator": "GPU"
  },
  "cells": [
    {
      "cell_type": "markdown",
      "metadata": {
        "id": "view-in-github",
        "colab_type": "text"
      },
      "source": [
        "<a href=\"https://colab.research.google.com/github/RoseJaisil/Segmentation-Algorithms/blob/main/3D_Unet_Sand_stone.ipynb\" target=\"_parent\"><img src=\"https://colab.research.google.com/assets/colab-badge.svg\" alt=\"Open In Colab\"/></a>"
      ]
    },
    {
      "cell_type": "markdown",
      "source": [
        "Install libraries"
      ],
      "metadata": {
        "id": "xV4U5B19z36K"
      }
    },
    {
      "cell_type": "code",
      "source": [
        "!pip install classification-models-3D\n",
        "!pip install efficientnet-3D\n",
        "!pip install segmentation-models-3D\n",
        "!pip install patchify"
      ],
      "metadata": {
        "colab": {
          "base_uri": "https://localhost:8080/"
        },
        "id": "GvEKxqN44ibs",
        "outputId": "1cc68758-e99e-4afe-c60a-d72ba9b85cb2"
      },
      "execution_count": 10,
      "outputs": [
        {
          "output_type": "stream",
          "name": "stdout",
          "text": [
            "Looking in indexes: https://pypi.org/simple, https://us-python.pkg.dev/colab-wheels/public/simple/\n",
            "Requirement already satisfied: classification-models-3D in /usr/local/lib/python3.10/dist-packages (1.0.7)\n",
            "Looking in indexes: https://pypi.org/simple, https://us-python.pkg.dev/colab-wheels/public/simple/\n",
            "Requirement already satisfied: efficientnet-3D in /usr/local/lib/python3.10/dist-packages (1.0.2)\n",
            "Looking in indexes: https://pypi.org/simple, https://us-python.pkg.dev/colab-wheels/public/simple/\n",
            "Requirement already satisfied: segmentation-models-3D in /usr/local/lib/python3.10/dist-packages (1.0.4)\n",
            "Requirement already satisfied: tensorflow>=2.8.0 in /usr/local/lib/python3.10/dist-packages (from segmentation-models-3D) (2.12.0)\n",
            "Requirement already satisfied: keras-applications>=1.0.8 in /usr/local/lib/python3.10/dist-packages (from segmentation-models-3D) (1.0.8)\n",
            "Requirement already satisfied: classification-models-3D>=1.0.6 in /usr/local/lib/python3.10/dist-packages (from segmentation-models-3D) (1.0.7)\n",
            "Requirement already satisfied: numpy>=1.9.1 in /usr/local/lib/python3.10/dist-packages (from keras-applications>=1.0.8->segmentation-models-3D) (1.22.4)\n",
            "Requirement already satisfied: h5py in /usr/local/lib/python3.10/dist-packages (from keras-applications>=1.0.8->segmentation-models-3D) (3.8.0)\n",
            "Requirement already satisfied: absl-py>=1.0.0 in /usr/local/lib/python3.10/dist-packages (from tensorflow>=2.8.0->segmentation-models-3D) (1.4.0)\n",
            "Requirement already satisfied: astunparse>=1.6.0 in /usr/local/lib/python3.10/dist-packages (from tensorflow>=2.8.0->segmentation-models-3D) (1.6.3)\n",
            "Requirement already satisfied: flatbuffers>=2.0 in /usr/local/lib/python3.10/dist-packages (from tensorflow>=2.8.0->segmentation-models-3D) (23.3.3)\n",
            "Requirement already satisfied: gast<=0.4.0,>=0.2.1 in /usr/local/lib/python3.10/dist-packages (from tensorflow>=2.8.0->segmentation-models-3D) (0.4.0)\n",
            "Requirement already satisfied: google-pasta>=0.1.1 in /usr/local/lib/python3.10/dist-packages (from tensorflow>=2.8.0->segmentation-models-3D) (0.2.0)\n",
            "Requirement already satisfied: grpcio<2.0,>=1.24.3 in /usr/local/lib/python3.10/dist-packages (from tensorflow>=2.8.0->segmentation-models-3D) (1.54.0)\n",
            "Requirement already satisfied: jax>=0.3.15 in /usr/local/lib/python3.10/dist-packages (from tensorflow>=2.8.0->segmentation-models-3D) (0.4.10)\n",
            "Requirement already satisfied: keras<2.13,>=2.12.0 in /usr/local/lib/python3.10/dist-packages (from tensorflow>=2.8.0->segmentation-models-3D) (2.12.0)\n",
            "Requirement already satisfied: libclang>=13.0.0 in /usr/local/lib/python3.10/dist-packages (from tensorflow>=2.8.0->segmentation-models-3D) (16.0.0)\n",
            "Requirement already satisfied: opt-einsum>=2.3.2 in /usr/local/lib/python3.10/dist-packages (from tensorflow>=2.8.0->segmentation-models-3D) (3.3.0)\n",
            "Requirement already satisfied: packaging in /usr/local/lib/python3.10/dist-packages (from tensorflow>=2.8.0->segmentation-models-3D) (23.1)\n",
            "Requirement already satisfied: protobuf!=4.21.0,!=4.21.1,!=4.21.2,!=4.21.3,!=4.21.4,!=4.21.5,<5.0.0dev,>=3.20.3 in /usr/local/lib/python3.10/dist-packages (from tensorflow>=2.8.0->segmentation-models-3D) (3.20.3)\n",
            "Requirement already satisfied: setuptools in /usr/local/lib/python3.10/dist-packages (from tensorflow>=2.8.0->segmentation-models-3D) (67.7.2)\n",
            "Requirement already satisfied: six>=1.12.0 in /usr/local/lib/python3.10/dist-packages (from tensorflow>=2.8.0->segmentation-models-3D) (1.16.0)\n",
            "Requirement already satisfied: tensorboard<2.13,>=2.12 in /usr/local/lib/python3.10/dist-packages (from tensorflow>=2.8.0->segmentation-models-3D) (2.12.2)\n",
            "Requirement already satisfied: tensorflow-estimator<2.13,>=2.12.0 in /usr/local/lib/python3.10/dist-packages (from tensorflow>=2.8.0->segmentation-models-3D) (2.12.0)\n",
            "Requirement already satisfied: termcolor>=1.1.0 in /usr/local/lib/python3.10/dist-packages (from tensorflow>=2.8.0->segmentation-models-3D) (2.3.0)\n",
            "Requirement already satisfied: typing-extensions>=3.6.6 in /usr/local/lib/python3.10/dist-packages (from tensorflow>=2.8.0->segmentation-models-3D) (4.5.0)\n",
            "Requirement already satisfied: wrapt<1.15,>=1.11.0 in /usr/local/lib/python3.10/dist-packages (from tensorflow>=2.8.0->segmentation-models-3D) (1.14.1)\n",
            "Requirement already satisfied: tensorflow-io-gcs-filesystem>=0.23.1 in /usr/local/lib/python3.10/dist-packages (from tensorflow>=2.8.0->segmentation-models-3D) (0.32.0)\n",
            "Requirement already satisfied: wheel<1.0,>=0.23.0 in /usr/local/lib/python3.10/dist-packages (from astunparse>=1.6.0->tensorflow>=2.8.0->segmentation-models-3D) (0.40.0)\n",
            "Requirement already satisfied: ml-dtypes>=0.1.0 in /usr/local/lib/python3.10/dist-packages (from jax>=0.3.15->tensorflow>=2.8.0->segmentation-models-3D) (0.1.0)\n",
            "Requirement already satisfied: scipy>=1.7 in /usr/local/lib/python3.10/dist-packages (from jax>=0.3.15->tensorflow>=2.8.0->segmentation-models-3D) (1.10.1)\n",
            "Requirement already satisfied: google-auth<3,>=1.6.3 in /usr/local/lib/python3.10/dist-packages (from tensorboard<2.13,>=2.12->tensorflow>=2.8.0->segmentation-models-3D) (2.17.3)\n",
            "Requirement already satisfied: google-auth-oauthlib<1.1,>=0.5 in /usr/local/lib/python3.10/dist-packages (from tensorboard<2.13,>=2.12->tensorflow>=2.8.0->segmentation-models-3D) (1.0.0)\n",
            "Requirement already satisfied: markdown>=2.6.8 in /usr/local/lib/python3.10/dist-packages (from tensorboard<2.13,>=2.12->tensorflow>=2.8.0->segmentation-models-3D) (3.4.3)\n",
            "Requirement already satisfied: requests<3,>=2.21.0 in /usr/local/lib/python3.10/dist-packages (from tensorboard<2.13,>=2.12->tensorflow>=2.8.0->segmentation-models-3D) (2.27.1)\n",
            "Requirement already satisfied: tensorboard-data-server<0.8.0,>=0.7.0 in /usr/local/lib/python3.10/dist-packages (from tensorboard<2.13,>=2.12->tensorflow>=2.8.0->segmentation-models-3D) (0.7.0)\n",
            "Requirement already satisfied: tensorboard-plugin-wit>=1.6.0 in /usr/local/lib/python3.10/dist-packages (from tensorboard<2.13,>=2.12->tensorflow>=2.8.0->segmentation-models-3D) (1.8.1)\n",
            "Requirement already satisfied: werkzeug>=1.0.1 in /usr/local/lib/python3.10/dist-packages (from tensorboard<2.13,>=2.12->tensorflow>=2.8.0->segmentation-models-3D) (2.3.0)\n",
            "Requirement already satisfied: cachetools<6.0,>=2.0.0 in /usr/local/lib/python3.10/dist-packages (from google-auth<3,>=1.6.3->tensorboard<2.13,>=2.12->tensorflow>=2.8.0->segmentation-models-3D) (5.3.0)\n",
            "Requirement already satisfied: pyasn1-modules>=0.2.1 in /usr/local/lib/python3.10/dist-packages (from google-auth<3,>=1.6.3->tensorboard<2.13,>=2.12->tensorflow>=2.8.0->segmentation-models-3D) (0.3.0)\n",
            "Requirement already satisfied: rsa<5,>=3.1.4 in /usr/local/lib/python3.10/dist-packages (from google-auth<3,>=1.6.3->tensorboard<2.13,>=2.12->tensorflow>=2.8.0->segmentation-models-3D) (4.9)\n",
            "Requirement already satisfied: requests-oauthlib>=0.7.0 in /usr/local/lib/python3.10/dist-packages (from google-auth-oauthlib<1.1,>=0.5->tensorboard<2.13,>=2.12->tensorflow>=2.8.0->segmentation-models-3D) (1.3.1)\n",
            "Requirement already satisfied: urllib3<1.27,>=1.21.1 in /usr/local/lib/python3.10/dist-packages (from requests<3,>=2.21.0->tensorboard<2.13,>=2.12->tensorflow>=2.8.0->segmentation-models-3D) (1.26.15)\n",
            "Requirement already satisfied: certifi>=2017.4.17 in /usr/local/lib/python3.10/dist-packages (from requests<3,>=2.21.0->tensorboard<2.13,>=2.12->tensorflow>=2.8.0->segmentation-models-3D) (2022.12.7)\n",
            "Requirement already satisfied: charset-normalizer~=2.0.0 in /usr/local/lib/python3.10/dist-packages (from requests<3,>=2.21.0->tensorboard<2.13,>=2.12->tensorflow>=2.8.0->segmentation-models-3D) (2.0.12)\n",
            "Requirement already satisfied: idna<4,>=2.5 in /usr/local/lib/python3.10/dist-packages (from requests<3,>=2.21.0->tensorboard<2.13,>=2.12->tensorflow>=2.8.0->segmentation-models-3D) (3.4)\n",
            "Requirement already satisfied: MarkupSafe>=2.1.1 in /usr/local/lib/python3.10/dist-packages (from werkzeug>=1.0.1->tensorboard<2.13,>=2.12->tensorflow>=2.8.0->segmentation-models-3D) (2.1.2)\n",
            "Requirement already satisfied: pyasn1<0.6.0,>=0.4.6 in /usr/local/lib/python3.10/dist-packages (from pyasn1-modules>=0.2.1->google-auth<3,>=1.6.3->tensorboard<2.13,>=2.12->tensorflow>=2.8.0->segmentation-models-3D) (0.5.0)\n",
            "Requirement already satisfied: oauthlib>=3.0.0 in /usr/local/lib/python3.10/dist-packages (from requests-oauthlib>=0.7.0->google-auth-oauthlib<1.1,>=0.5->tensorboard<2.13,>=2.12->tensorflow>=2.8.0->segmentation-models-3D) (3.2.2)\n",
            "Looking in indexes: https://pypi.org/simple, https://us-python.pkg.dev/colab-wheels/public/simple/\n",
            "Requirement already satisfied: patchify in /usr/local/lib/python3.10/dist-packages (0.2.3)\n",
            "Requirement already satisfied: numpy<2,>=1 in /usr/local/lib/python3.10/dist-packages (from patchify) (1.22.4)\n"
          ]
        }
      ]
    },
    {
      "cell_type": "markdown",
      "source": [
        "Import libraries"
      ],
      "metadata": {
        "id": "M15eK74i7mTl"
      }
    },
    {
      "cell_type": "code",
      "source": [
        "import tensorflow as tf\n",
        "import keras\n",
        "import segmentation_models_3D as sm\n",
        "from skimage import io\n",
        "from patchify import patchify,unpatchify\n",
        "import numpy as np\n",
        "from matplotlib import pyplot as plt\n",
        "from keras import backend as K\n",
        "from keras.utils import to_categorical\n",
        "from sklearn.model_selection import train_test_split"
      ],
      "metadata": {
        "id": "RIKIx44B51op"
      },
      "execution_count": 11,
      "outputs": []
    },
    {
      "cell_type": "markdown",
      "source": [
        "Checking the GPU"
      ],
      "metadata": {
        "id": "SsXzZxj67j-m"
      }
    },
    {
      "cell_type": "code",
      "source": [
        "device_name = tf.test.gpu_device_name()\n",
        "if device_name != '/device:GPU:0':\n",
        "  raise SystemError('GPU device is not found')\n",
        "print('Found GPU at: {}'.format(device_name))"
      ],
      "metadata": {
        "colab": {
          "base_uri": "https://localhost:8080/"
        },
        "id": "y4fWHlWx7g-B",
        "outputId": "8fb95ca9-c4fc-4825-a157-860256013a02"
      },
      "execution_count": 12,
      "outputs": [
        {
          "output_type": "stream",
          "name": "stdout",
          "text": [
            "Found GPU at: /device:GPU:0\n"
          ]
        }
      ]
    },
    {
      "cell_type": "markdown",
      "source": [
        "Data Import and unpacking"
      ],
      "metadata": {
        "id": "3Em108Ii8a_-"
      }
    },
    {
      "cell_type": "code",
      "source": [
        "!unzip /content/drive/MyDrive/sandstone_data_for_ML.zip -d sandstone_data_for_ML"
      ],
      "metadata": {
        "colab": {
          "base_uri": "https://localhost:8080/"
        },
        "id": "SHZ6-LHk8glZ",
        "outputId": "e95bd141-ecf9-4463-8747-74e4b8d32702"
      },
      "execution_count": 13,
      "outputs": [
        {
          "output_type": "stream",
          "name": "stdout",
          "text": [
            "Archive:  /content/drive/MyDrive/sandstone_data_for_ML.zip\n",
            "   creating: sandstone_data_for_ML/sandstone_data_for_ML/\n",
            "   creating: sandstone_data_for_ML/sandstone_data_for_ML/data_for_3D_Unet/\n",
            "  inflating: sandstone_data_for_ML/sandstone_data_for_ML/data_for_3D_Unet/448_images_512x512.tif  \n",
            "  inflating: sandstone_data_for_ML/sandstone_data_for_ML/data_for_3D_Unet/train_images_256_256_256.tif  \n",
            "  inflating: sandstone_data_for_ML/sandstone_data_for_ML/data_for_3D_Unet/train_masks_256_256_256.tif  \n",
            "   creating: sandstone_data_for_ML/sandstone_data_for_ML/full_labels_for_deep_learning/\n",
            "   creating: sandstone_data_for_ML/sandstone_data_for_ML/full_labels_for_deep_learning/128_patches/\n",
            "  inflating: sandstone_data_for_ML/sandstone_data_for_ML/full_labels_for_deep_learning/128_patches/images_as_128x128_patches.tif  \n",
            "  inflating: sandstone_data_for_ML/sandstone_data_for_ML/full_labels_for_deep_learning/128_patches/masks_as_128x128_patches.tif  \n",
            "  inflating: sandstone_data_for_ML/sandstone_data_for_ML/full_labels_for_deep_learning/train_imgs_cropped_768.tif  \n",
            "  inflating: sandstone_data_for_ML/sandstone_data_for_ML/full_labels_for_deep_learning/train_masks_grey_cropped_768.tif  \n",
            "   creating: sandstone_data_for_ML/sandstone_data_for_ML/partial_labels_for_traditional_ML/\n",
            "  inflating: sandstone_data_for_ML/sandstone_data_for_ML/partial_labels_for_traditional_ML/sandstone_partial_labels_from_APEER_ML.tif  \n",
            "  inflating: sandstone_data_for_ML/sandstone_data_for_ML/partial_labels_for_traditional_ML/sandstone_train_images.tif  \n",
            "  inflating: sandstone_data_for_ML/sandstone_data_for_ML/Readme.pdf  \n",
            "  inflating: sandstone_data_for_ML/sandstone_data_for_ML/sandstone_all_462_images.tif  \n",
            "   creating: sandstone_data_for_ML/sandstone_data_for_ML/separate_labels_for_each_class/\n",
            "  inflating: sandstone_data_for_ML/sandstone_data_for_ML/separate_labels_for_each_class/9_train_images_sandstone.tif  \n",
            "  inflating: sandstone_data_for_ML/sandstone_data_for_ML/separate_labels_for_each_class/9_train_images_sandstone_class1.ome.tiff  \n",
            "  inflating: sandstone_data_for_ML/sandstone_data_for_ML/separate_labels_for_each_class/9_train_images_sandstone_class2.ome.tiff  \n",
            "  inflating: sandstone_data_for_ML/sandstone_data_for_ML/separate_labels_for_each_class/9_train_images_sandstone_class3.ome.tiff  \n",
            "  inflating: sandstone_data_for_ML/sandstone_data_for_ML/separate_labels_for_each_class/9_train_images_sandstone_class4.ome.tiff  \n"
          ]
        }
      ]
    },
    {
      "cell_type": "markdown",
      "source": [
        "Loading the images and preparing the dataset"
      ],
      "metadata": {
        "id": "qhMXHBCj8fME"
      }
    },
    {
      "cell_type": "code",
      "source": [
        "im_path = '/content/sandstone_data_for_ML/sandstone_data_for_ML/data_for_3D_Unet/train_images_256_256_256.tif'\n",
        "mask_path = '/content/sandstone_data_for_ML/sandstone_data_for_ML/data_for_3D_Unet/train_masks_256_256_256.tif'\n",
        "\n",
        "image = io.imread(im_path)\n",
        "image_patches = patchify(image, (64,64,64), step=64)\n",
        "\n",
        "mask = io.imread(mask_path)\n",
        "mask_patches = patchify(mask, (64,64,64), step=64)\n",
        "\n",
        "input_image = np.reshape(image_patches, (-1, image_patches.shape[3], image_patches.shape[4], image_patches.shape[5]))\n",
        "input_mask = np.reshape(mask_patches, (-1, mask_patches.shape[3], mask_patches.shape[4], mask_patches.shape[5]))\n",
        "\n",
        "n_classes = 4\n",
        "\n",
        "# stack image to become 3 channel image. This is done to fit in the Unet model\n",
        "train_image = np.stack((input_image,)*3, axis=-1)\n",
        "train_mask = np.expand_dims(input_mask, axis=4)\n",
        "train_mask_cat = to_categorical(train_mask, num_classes=n_classes)\n",
        "\n",
        "X_train, X_test, y_train, y_test = train_test_split(train_image, train_mask_cat, test_size = 0.1, random_state=0) # for large images test_size =0.2 0r 0.3"
      ],
      "metadata": {
        "id": "BWlYWKS18U55"
      },
      "execution_count": 28,
      "outputs": []
    },
    {
      "cell_type": "markdown",
      "source": [
        "Preparing and building the model"
      ],
      "metadata": {
        "id": "V4egtjT-DqE0"
      }
    },
    {
      "cell_type": "code",
      "source": [
        "encoder_weights = 'imagenet'\n",
        "BACKBONE = 'vgg16'\n",
        "activation = 'softmax'\n",
        "patch_size = 64\n",
        "n_classes = 4\n",
        "channels = 3\n",
        "LR = 0.0001\n",
        "optimizer = keras.optimizers.Adam(learning_rate=LR)\n",
        "\n",
        "dice_loss = sm.losses.DiceLoss(class_weights=np.array([0.25,0.25,0.25,0.25]))\n",
        "focal_loss = sm.losses.CategoricalFocalLoss()\n",
        "total_loss = dice_loss + (1 * focal_loss)\n",
        "\n",
        "metrics = [sm.metrics.IOUScore(threshold=0.5), sm.metrics.FScore(threshold=0.5)]"
      ],
      "metadata": {
        "id": "KVEys0uiCR-x"
      },
      "execution_count": 33,
      "outputs": []
    },
    {
      "cell_type": "code",
      "source": [
        "preprocess_input = sm.get_preprocessing(BACKBONE) # this step is very crucial\n",
        "\n",
        "X_train_prep = preprocess_input(X_train)\n",
        "X_test_prep = preprocess_input(X_test)\n"
      ],
      "metadata": {
        "id": "7c1sd83dGiy6"
      },
      "execution_count": 34,
      "outputs": []
    },
    {
      "cell_type": "markdown",
      "source": [
        "Model"
      ],
      "metadata": {
        "id": "MMIVkzoerzL9"
      }
    },
    {
      "cell_type": "code",
      "source": [
        "model = sm.Unet(BACKBONE, classes=n_classes,\n",
        "                input_shape=(patch_size, patch_size, patch_size, channels),\n",
        "                encoder_weights=encoder_weights,\n",
        "                activation=activation)\n",
        "\n",
        "model.compile(optimizer=optimizer, loss=total_loss, metrics=metrics)\n",
        "print(model.summary())"
      ],
      "metadata": {
        "colab": {
          "base_uri": "https://localhost:8080/"
        },
        "id": "q5WVurvFrel6",
        "outputId": "34096280-b797-441b-fab7-9d75c8af7b1e"
      },
      "execution_count": 36,
      "outputs": [
        {
          "output_type": "stream",
          "name": "stdout",
          "text": [
            "Downloading data from https://github.com/ZFTurbo/classification_models_3D/releases/download/v1.0.4/vgg16_inp_channel_3_tch_0_top_False.h5\n",
            "176606448/176606448 [==============================] - 4s 0us/step\n",
            "Model: \"model\"\n",
            "__________________________________________________________________________________________________\n",
            " Layer (type)                   Output Shape         Param #     Connected to                     \n",
            "==================================================================================================\n",
            " input_1 (InputLayer)           [(None, 64, 64, 64,  0           []                               \n",
            "                                 3)]                                                              \n",
            "                                                                                                  \n",
            " block1_conv1 (Conv3D)          (None, 64, 64, 64,   5248        ['input_1[0][0]']                \n",
            "                                64)                                                               \n",
            "                                                                                                  \n",
            " block1_conv2 (Conv3D)          (None, 64, 64, 64,   110656      ['block1_conv1[0][0]']           \n",
            "                                64)                                                               \n",
            "                                                                                                  \n",
            " block1_pool (MaxPooling3D)     (None, 32, 32, 32,   0           ['block1_conv2[0][0]']           \n",
            "                                64)                                                               \n",
            "                                                                                                  \n",
            " block2_conv1 (Conv3D)          (None, 32, 32, 32,   221312      ['block1_pool[0][0]']            \n",
            "                                128)                                                              \n",
            "                                                                                                  \n",
            " block2_conv2 (Conv3D)          (None, 32, 32, 32,   442496      ['block2_conv1[0][0]']           \n",
            "                                128)                                                              \n",
            "                                                                                                  \n",
            " block2_pool (MaxPooling3D)     (None, 16, 16, 16,   0           ['block2_conv2[0][0]']           \n",
            "                                128)                                                              \n",
            "                                                                                                  \n",
            " block3_conv1 (Conv3D)          (None, 16, 16, 16,   884992      ['block2_pool[0][0]']            \n",
            "                                256)                                                              \n",
            "                                                                                                  \n",
            " block3_conv2 (Conv3D)          (None, 16, 16, 16,   1769728     ['block3_conv1[0][0]']           \n",
            "                                256)                                                              \n",
            "                                                                                                  \n",
            " block3_conv3 (Conv3D)          (None, 16, 16, 16,   1769728     ['block3_conv2[0][0]']           \n",
            "                                256)                                                              \n",
            "                                                                                                  \n",
            " block3_pool (MaxPooling3D)     (None, 8, 8, 8, 256  0           ['block3_conv3[0][0]']           \n",
            "                                )                                                                 \n",
            "                                                                                                  \n",
            " block4_conv1 (Conv3D)          (None, 8, 8, 8, 512  3539456     ['block3_pool[0][0]']            \n",
            "                                )                                                                 \n",
            "                                                                                                  \n",
            " block4_conv2 (Conv3D)          (None, 8, 8, 8, 512  7078400     ['block4_conv1[0][0]']           \n",
            "                                )                                                                 \n",
            "                                                                                                  \n",
            " block4_conv3 (Conv3D)          (None, 8, 8, 8, 512  7078400     ['block4_conv2[0][0]']           \n",
            "                                )                                                                 \n",
            "                                                                                                  \n",
            " block4_pool (MaxPooling3D)     (None, 4, 4, 4, 512  0           ['block4_conv3[0][0]']           \n",
            "                                )                                                                 \n",
            "                                                                                                  \n",
            " block5_conv1 (Conv3D)          (None, 4, 4, 4, 512  7078400     ['block4_pool[0][0]']            \n",
            "                                )                                                                 \n",
            "                                                                                                  \n",
            " block5_conv2 (Conv3D)          (None, 4, 4, 4, 512  7078400     ['block5_conv1[0][0]']           \n",
            "                                )                                                                 \n",
            "                                                                                                  \n",
            " block5_conv3 (Conv3D)          (None, 4, 4, 4, 512  7078400     ['block5_conv2[0][0]']           \n",
            "                                )                                                                 \n",
            "                                                                                                  \n",
            " block5_pool (MaxPooling3D)     (None, 2, 2, 2, 512  0           ['block5_conv3[0][0]']           \n",
            "                                )                                                                 \n",
            "                                                                                                  \n",
            " center_block1_conv (Conv3D)    (None, 2, 2, 2, 512  7077888     ['block5_pool[0][0]']            \n",
            "                                )                                                                 \n",
            "                                                                                                  \n",
            " center_block1_bn (BatchNormali  (None, 2, 2, 2, 512  2048       ['center_block1_conv[0][0]']     \n",
            " zation)                        )                                                                 \n",
            "                                                                                                  \n",
            " center_block1_relu (Activation  (None, 2, 2, 2, 512  0          ['center_block1_bn[0][0]']       \n",
            " )                              )                                                                 \n",
            "                                                                                                  \n",
            " center_block2_conv (Conv3D)    (None, 2, 2, 2, 512  7077888     ['center_block1_relu[0][0]']     \n",
            "                                )                                                                 \n",
            "                                                                                                  \n",
            " center_block2_bn (BatchNormali  (None, 2, 2, 2, 512  2048       ['center_block2_conv[0][0]']     \n",
            " zation)                        )                                                                 \n",
            "                                                                                                  \n",
            " center_block2_relu (Activation  (None, 2, 2, 2, 512  0          ['center_block2_bn[0][0]']       \n",
            " )                              )                                                                 \n",
            "                                                                                                  \n",
            " decoder_stage0_upsampling (UpS  (None, 4, 4, 4, 512  0          ['center_block2_relu[0][0]']     \n",
            " ampling3D)                     )                                                                 \n",
            "                                                                                                  \n",
            " decoder_stage0_concat (Concate  (None, 4, 4, 4, 102  0          ['decoder_stage0_upsampling[0][0]\n",
            " nate)                          4)                               ',                               \n",
            "                                                                  'block5_conv3[0][0]']           \n",
            "                                                                                                  \n",
            " decoder_stage0a_conv (Conv3D)  (None, 4, 4, 4, 256  7077888     ['decoder_stage0_concat[0][0]']  \n",
            "                                )                                                                 \n",
            "                                                                                                  \n",
            " decoder_stage0a_bn (BatchNorma  (None, 4, 4, 4, 256  1024       ['decoder_stage0a_conv[0][0]']   \n",
            " lization)                      )                                                                 \n",
            "                                                                                                  \n",
            " decoder_stage0a_relu (Activati  (None, 4, 4, 4, 256  0          ['decoder_stage0a_bn[0][0]']     \n",
            " on)                            )                                                                 \n",
            "                                                                                                  \n",
            " decoder_stage0b_conv (Conv3D)  (None, 4, 4, 4, 256  1769472     ['decoder_stage0a_relu[0][0]']   \n",
            "                                )                                                                 \n",
            "                                                                                                  \n",
            " decoder_stage0b_bn (BatchNorma  (None, 4, 4, 4, 256  1024       ['decoder_stage0b_conv[0][0]']   \n",
            " lization)                      )                                                                 \n",
            "                                                                                                  \n",
            " decoder_stage0b_relu (Activati  (None, 4, 4, 4, 256  0          ['decoder_stage0b_bn[0][0]']     \n",
            " on)                            )                                                                 \n",
            "                                                                                                  \n",
            " decoder_stage1_upsampling (UpS  (None, 8, 8, 8, 256  0          ['decoder_stage0b_relu[0][0]']   \n",
            " ampling3D)                     )                                                                 \n",
            "                                                                                                  \n",
            " decoder_stage1_concat (Concate  (None, 8, 8, 8, 768  0          ['decoder_stage1_upsampling[0][0]\n",
            " nate)                          )                                ',                               \n",
            "                                                                  'block4_conv3[0][0]']           \n",
            "                                                                                                  \n",
            " decoder_stage1a_conv (Conv3D)  (None, 8, 8, 8, 128  2654208     ['decoder_stage1_concat[0][0]']  \n",
            "                                )                                                                 \n",
            "                                                                                                  \n",
            " decoder_stage1a_bn (BatchNorma  (None, 8, 8, 8, 128  512        ['decoder_stage1a_conv[0][0]']   \n",
            " lization)                      )                                                                 \n",
            "                                                                                                  \n",
            " decoder_stage1a_relu (Activati  (None, 8, 8, 8, 128  0          ['decoder_stage1a_bn[0][0]']     \n",
            " on)                            )                                                                 \n",
            "                                                                                                  \n",
            " decoder_stage1b_conv (Conv3D)  (None, 8, 8, 8, 128  442368      ['decoder_stage1a_relu[0][0]']   \n",
            "                                )                                                                 \n",
            "                                                                                                  \n",
            " decoder_stage1b_bn (BatchNorma  (None, 8, 8, 8, 128  512        ['decoder_stage1b_conv[0][0]']   \n",
            " lization)                      )                                                                 \n",
            "                                                                                                  \n",
            " decoder_stage1b_relu (Activati  (None, 8, 8, 8, 128  0          ['decoder_stage1b_bn[0][0]']     \n",
            " on)                            )                                                                 \n",
            "                                                                                                  \n",
            " decoder_stage2_upsampling (UpS  (None, 16, 16, 16,   0          ['decoder_stage1b_relu[0][0]']   \n",
            " ampling3D)                     128)                                                              \n",
            "                                                                                                  \n",
            " decoder_stage2_concat (Concate  (None, 16, 16, 16,   0          ['decoder_stage2_upsampling[0][0]\n",
            " nate)                          384)                             ',                               \n",
            "                                                                  'block3_conv3[0][0]']           \n",
            "                                                                                                  \n",
            " decoder_stage2a_conv (Conv3D)  (None, 16, 16, 16,   663552      ['decoder_stage2_concat[0][0]']  \n",
            "                                64)                                                               \n",
            "                                                                                                  \n",
            " decoder_stage2a_bn (BatchNorma  (None, 16, 16, 16,   256        ['decoder_stage2a_conv[0][0]']   \n",
            " lization)                      64)                                                               \n",
            "                                                                                                  \n",
            " decoder_stage2a_relu (Activati  (None, 16, 16, 16,   0          ['decoder_stage2a_bn[0][0]']     \n",
            " on)                            64)                                                               \n",
            "                                                                                                  \n",
            " decoder_stage2b_conv (Conv3D)  (None, 16, 16, 16,   110592      ['decoder_stage2a_relu[0][0]']   \n",
            "                                64)                                                               \n",
            "                                                                                                  \n",
            " decoder_stage2b_bn (BatchNorma  (None, 16, 16, 16,   256        ['decoder_stage2b_conv[0][0]']   \n",
            " lization)                      64)                                                               \n",
            "                                                                                                  \n",
            " decoder_stage2b_relu (Activati  (None, 16, 16, 16,   0          ['decoder_stage2b_bn[0][0]']     \n",
            " on)                            64)                                                               \n",
            "                                                                                                  \n",
            " decoder_stage3_upsampling (UpS  (None, 32, 32, 32,   0          ['decoder_stage2b_relu[0][0]']   \n",
            " ampling3D)                     64)                                                               \n",
            "                                                                                                  \n",
            " decoder_stage3_concat (Concate  (None, 32, 32, 32,   0          ['decoder_stage3_upsampling[0][0]\n",
            " nate)                          192)                             ',                               \n",
            "                                                                  'block2_conv2[0][0]']           \n",
            "                                                                                                  \n",
            " decoder_stage3a_conv (Conv3D)  (None, 32, 32, 32,   165888      ['decoder_stage3_concat[0][0]']  \n",
            "                                32)                                                               \n",
            "                                                                                                  \n",
            " decoder_stage3a_bn (BatchNorma  (None, 32, 32, 32,   128        ['decoder_stage3a_conv[0][0]']   \n",
            " lization)                      32)                                                               \n",
            "                                                                                                  \n",
            " decoder_stage3a_relu (Activati  (None, 32, 32, 32,   0          ['decoder_stage3a_bn[0][0]']     \n",
            " on)                            32)                                                               \n",
            "                                                                                                  \n",
            " decoder_stage3b_conv (Conv3D)  (None, 32, 32, 32,   27648       ['decoder_stage3a_relu[0][0]']   \n",
            "                                32)                                                               \n",
            "                                                                                                  \n",
            " decoder_stage3b_bn (BatchNorma  (None, 32, 32, 32,   128        ['decoder_stage3b_conv[0][0]']   \n",
            " lization)                      32)                                                               \n",
            "                                                                                                  \n",
            " decoder_stage3b_relu (Activati  (None, 32, 32, 32,   0          ['decoder_stage3b_bn[0][0]']     \n",
            " on)                            32)                                                               \n",
            "                                                                                                  \n",
            " decoder_stage4_upsampling (UpS  (None, 64, 64, 64,   0          ['decoder_stage3b_relu[0][0]']   \n",
            " ampling3D)                     32)                                                               \n",
            "                                                                                                  \n",
            " decoder_stage4a_conv (Conv3D)  (None, 64, 64, 64,   13824       ['decoder_stage4_upsampling[0][0]\n",
            "                                16)                              ']                               \n",
            "                                                                                                  \n",
            " decoder_stage4a_bn (BatchNorma  (None, 64, 64, 64,   64         ['decoder_stage4a_conv[0][0]']   \n",
            " lization)                      16)                                                               \n",
            "                                                                                                  \n",
            " decoder_stage4a_relu (Activati  (None, 64, 64, 64,   0          ['decoder_stage4a_bn[0][0]']     \n",
            " on)                            16)                                                               \n",
            "                                                                                                  \n",
            " decoder_stage4b_conv (Conv3D)  (None, 64, 64, 64,   6912        ['decoder_stage4a_relu[0][0]']   \n",
            "                                16)                                                               \n",
            "                                                                                                  \n",
            " decoder_stage4b_bn (BatchNorma  (None, 64, 64, 64,   64         ['decoder_stage4b_conv[0][0]']   \n",
            " lization)                      16)                                                               \n",
            "                                                                                                  \n",
            " decoder_stage4b_relu (Activati  (None, 64, 64, 64,   0          ['decoder_stage4b_bn[0][0]']     \n",
            " on)                            16)                                                               \n",
            "                                                                                                  \n",
            " final_conv (Conv3D)            (None, 64, 64, 64,   1732        ['decoder_stage4b_relu[0][0]']   \n",
            "                                4)                                                                \n",
            "                                                                                                  \n",
            " softmax (Activation)           (None, 64, 64, 64,   0           ['final_conv[0][0]']             \n",
            "                                4)                                                                \n",
            "                                                                                                  \n",
            "==================================================================================================\n",
            "Total params: 71,233,540\n",
            "Trainable params: 71,229,508\n",
            "Non-trainable params: 4,032\n",
            "__________________________________________________________________________________________________\n",
            "None\n"
          ]
        }
      ]
    },
    {
      "cell_type": "markdown",
      "source": [
        "Training"
      ],
      "metadata": {
        "id": "a4yLu4DksyFC"
      }
    },
    {
      "cell_type": "code",
      "source": [
        "history = model.fit(X_train_prep,\n",
        "                    y_train,\n",
        "                    batch_size=8,\n",
        "                    epochs=100,\n",
        "                    verbose=1,\n",
        "                    validation_data=(X_test_prep, y_test))"
      ],
      "metadata": {
        "colab": {
          "base_uri": "https://localhost:8080/"
        },
        "id": "r1hsX_1Dsz8Q",
        "outputId": "20378b5f-0222-4eae-e292-5a61fd2d3621"
      },
      "execution_count": 38,
      "outputs": [
        {
          "output_type": "stream",
          "name": "stdout",
          "text": [
            "Epoch 1/100\n",
            "8/8 [==============================] - 64s 4s/step - loss: 1.0431 - iou_score: 0.0840 - f1-score: 0.1472 - val_loss: 1.0924 - val_iou_score: 0.1082 - val_f1-score: 0.1747\n",
            "Epoch 2/100\n",
            "8/8 [==============================] - 12s 2s/step - loss: 0.9988 - iou_score: 0.2075 - f1-score: 0.3040 - val_loss: 1.1130 - val_iou_score: 0.1205 - val_f1-score: 0.1722\n",
            "Epoch 3/100\n",
            "8/8 [==============================] - 12s 2s/step - loss: 0.9755 - iou_score: 0.2642 - f1-score: 0.3709 - val_loss: 1.0951 - val_iou_score: 0.1401 - val_f1-score: 0.1879\n",
            "Epoch 4/100\n",
            "8/8 [==============================] - 12s 2s/step - loss: 0.9582 - iou_score: 0.3241 - f1-score: 0.4434 - val_loss: 1.0525 - val_iou_score: 0.1402 - val_f1-score: 0.1921\n",
            "Epoch 5/100\n",
            "8/8 [==============================] - 13s 2s/step - loss: 0.9471 - iou_score: 0.3851 - f1-score: 0.5221 - val_loss: 1.0113 - val_iou_score: 0.1624 - val_f1-score: 0.2210\n",
            "Epoch 6/100\n",
            "8/8 [==============================] - 13s 2s/step - loss: 0.9382 - iou_score: 0.4431 - f1-score: 0.5944 - val_loss: 0.9984 - val_iou_score: 0.1615 - val_f1-score: 0.2317\n",
            "Epoch 7/100\n",
            "8/8 [==============================] - 13s 2s/step - loss: 0.9283 - iou_score: 0.5007 - f1-score: 0.6523 - val_loss: 0.9765 - val_iou_score: 0.1928 - val_f1-score: 0.2764\n",
            "Epoch 8/100\n",
            "8/8 [==============================] - 13s 2s/step - loss: 0.9236 - iou_score: 0.4899 - f1-score: 0.6307 - val_loss: 0.9576 - val_iou_score: 0.2493 - val_f1-score: 0.3624\n",
            "Epoch 9/100\n",
            "8/8 [==============================] - 13s 2s/step - loss: 0.9151 - iou_score: 0.5398 - f1-score: 0.6837 - val_loss: 0.9397 - val_iou_score: 0.3636 - val_f1-score: 0.5077\n",
            "Epoch 10/100\n",
            "8/8 [==============================] - 13s 2s/step - loss: 0.9065 - iou_score: 0.5559 - f1-score: 0.6867 - val_loss: 0.9377 - val_iou_score: 0.4008 - val_f1-score: 0.5471\n",
            "Epoch 11/100\n",
            "8/8 [==============================] - 13s 2s/step - loss: 0.9011 - iou_score: 0.5633 - f1-score: 0.6902 - val_loss: 0.9267 - val_iou_score: 0.4903 - val_f1-score: 0.6292\n",
            "Epoch 12/100\n",
            "8/8 [==============================] - 13s 2s/step - loss: 0.8947 - iou_score: 0.5919 - f1-score: 0.7213 - val_loss: 0.9159 - val_iou_score: 0.5360 - val_f1-score: 0.6660\n",
            "Epoch 13/100\n",
            "8/8 [==============================] - 13s 2s/step - loss: 0.8884 - iou_score: 0.6151 - f1-score: 0.7412 - val_loss: 0.9122 - val_iou_score: 0.5516 - val_f1-score: 0.6894\n",
            "Epoch 14/100\n",
            "8/8 [==============================] - 13s 2s/step - loss: 0.8844 - iou_score: 0.6184 - f1-score: 0.7378 - val_loss: 0.9146 - val_iou_score: 0.5399 - val_f1-score: 0.6680\n",
            "Epoch 15/100\n",
            "8/8 [==============================] - 13s 2s/step - loss: 0.8757 - iou_score: 0.6467 - f1-score: 0.7653 - val_loss: 0.8967 - val_iou_score: 0.6190 - val_f1-score: 0.7348\n",
            "Epoch 16/100\n",
            "8/8 [==============================] - 13s 2s/step - loss: 0.8741 - iou_score: 0.6283 - f1-score: 0.7447 - val_loss: 0.8994 - val_iou_score: 0.6164 - val_f1-score: 0.7493\n",
            "Epoch 17/100\n",
            "8/8 [==============================] - 13s 2s/step - loss: 0.8678 - iou_score: 0.6452 - f1-score: 0.7623 - val_loss: 0.8968 - val_iou_score: 0.5846 - val_f1-score: 0.6892\n",
            "Epoch 18/100\n",
            "8/8 [==============================] - 13s 2s/step - loss: 0.8613 - iou_score: 0.6626 - f1-score: 0.7759 - val_loss: 0.8877 - val_iou_score: 0.6394 - val_f1-score: 0.7500\n",
            "Epoch 19/100\n",
            "8/8 [==============================] - 13s 2s/step - loss: 0.8583 - iou_score: 0.6627 - f1-score: 0.7748 - val_loss: 0.8850 - val_iou_score: 0.6493 - val_f1-score: 0.7622\n",
            "Epoch 20/100\n",
            "8/8 [==============================] - 13s 2s/step - loss: 0.8558 - iou_score: 0.6623 - f1-score: 0.7754 - val_loss: 0.8808 - val_iou_score: 0.6598 - val_f1-score: 0.7753\n",
            "Epoch 21/100\n",
            "8/8 [==============================] - 13s 2s/step - loss: 0.8510 - iou_score: 0.6690 - f1-score: 0.7795 - val_loss: 0.8689 - val_iou_score: 0.7099 - val_f1-score: 0.8179\n",
            "Epoch 22/100\n",
            "8/8 [==============================] - 13s 2s/step - loss: 0.8476 - iou_score: 0.6817 - f1-score: 0.7918 - val_loss: 0.8736 - val_iou_score: 0.6857 - val_f1-score: 0.7955\n",
            "Epoch 23/100\n",
            "8/8 [==============================] - 13s 2s/step - loss: 0.8509 - iou_score: 0.6554 - f1-score: 0.7654 - val_loss: 0.8636 - val_iou_score: 0.7036 - val_f1-score: 0.8058\n",
            "Epoch 24/100\n",
            "8/8 [==============================] - 13s 2s/step - loss: 0.8414 - iou_score: 0.6710 - f1-score: 0.7751 - val_loss: 0.8629 - val_iou_score: 0.7007 - val_f1-score: 0.8067\n",
            "Epoch 25/100\n",
            "8/8 [==============================] - 13s 2s/step - loss: 0.8381 - iou_score: 0.6714 - f1-score: 0.7719 - val_loss: 0.8599 - val_iou_score: 0.7039 - val_f1-score: 0.8027\n",
            "Epoch 26/100\n",
            "8/8 [==============================] - 13s 2s/step - loss: 0.8353 - iou_score: 0.6929 - f1-score: 0.7994 - val_loss: 0.8559 - val_iou_score: 0.6849 - val_f1-score: 0.7928\n",
            "Epoch 27/100\n",
            "8/8 [==============================] - 13s 2s/step - loss: 0.8396 - iou_score: 0.6731 - f1-score: 0.7817 - val_loss: 0.8506 - val_iou_score: 0.7291 - val_f1-score: 0.8292\n",
            "Epoch 28/100\n",
            "8/8 [==============================] - 13s 2s/step - loss: 0.8324 - iou_score: 0.6756 - f1-score: 0.7797 - val_loss: 0.8444 - val_iou_score: 0.7346 - val_f1-score: 0.8344\n",
            "Epoch 29/100\n",
            "8/8 [==============================] - 13s 2s/step - loss: 0.8271 - iou_score: 0.7038 - f1-score: 0.8122 - val_loss: 0.8435 - val_iou_score: 0.7204 - val_f1-score: 0.8246\n",
            "Epoch 30/100\n",
            "8/8 [==============================] - 13s 2s/step - loss: 0.8309 - iou_score: 0.6804 - f1-score: 0.7866 - val_loss: 0.8388 - val_iou_score: 0.7339 - val_f1-score: 0.8360\n",
            "Epoch 31/100\n",
            "8/8 [==============================] - 13s 2s/step - loss: 0.8267 - iou_score: 0.6938 - f1-score: 0.7939 - val_loss: 0.8381 - val_iou_score: 0.7170 - val_f1-score: 0.8170\n",
            "Epoch 32/100\n",
            "8/8 [==============================] - 13s 2s/step - loss: 0.8229 - iou_score: 0.7064 - f1-score: 0.8096 - val_loss: 0.8324 - val_iou_score: 0.7391 - val_f1-score: 0.8358\n",
            "Epoch 33/100\n",
            "8/8 [==============================] - 13s 2s/step - loss: 0.8250 - iou_score: 0.7026 - f1-score: 0.8065 - val_loss: 0.8330 - val_iou_score: 0.7222 - val_f1-score: 0.8279\n",
            "Epoch 34/100\n",
            "8/8 [==============================] - 13s 2s/step - loss: 0.8208 - iou_score: 0.7124 - f1-score: 0.8153 - val_loss: 0.8262 - val_iou_score: 0.7465 - val_f1-score: 0.8443\n",
            "Epoch 35/100\n",
            "8/8 [==============================] - 13s 2s/step - loss: 0.8213 - iou_score: 0.7049 - f1-score: 0.8044 - val_loss: 0.8246 - val_iou_score: 0.7400 - val_f1-score: 0.8392\n",
            "Epoch 36/100\n",
            "8/8 [==============================] - 13s 2s/step - loss: 0.8188 - iou_score: 0.7040 - f1-score: 0.8082 - val_loss: 0.8259 - val_iou_score: 0.7402 - val_f1-score: 0.8398\n",
            "Epoch 37/100\n",
            "8/8 [==============================] - 13s 2s/step - loss: 0.8163 - iou_score: 0.7051 - f1-score: 0.8004 - val_loss: 0.8243 - val_iou_score: 0.7442 - val_f1-score: 0.8427\n",
            "Epoch 38/100\n",
            "8/8 [==============================] - 13s 2s/step - loss: 0.8109 - iou_score: 0.7447 - f1-score: 0.8406 - val_loss: 0.8316 - val_iou_score: 0.6744 - val_f1-score: 0.7917\n",
            "Epoch 39/100\n",
            "8/8 [==============================] - 13s 2s/step - loss: 0.8134 - iou_score: 0.7110 - f1-score: 0.8065 - val_loss: 0.8208 - val_iou_score: 0.7324 - val_f1-score: 0.8341\n",
            "Epoch 40/100\n",
            "8/8 [==============================] - 13s 2s/step - loss: 0.8154 - iou_score: 0.7173 - f1-score: 0.8201 - val_loss: 0.8239 - val_iou_score: 0.7071 - val_f1-score: 0.8165\n",
            "Epoch 41/100\n",
            "8/8 [==============================] - 13s 2s/step - loss: 0.8111 - iou_score: 0.7299 - f1-score: 0.8288 - val_loss: 0.8147 - val_iou_score: 0.7399 - val_f1-score: 0.8402\n",
            "Epoch 42/100\n",
            "8/8 [==============================] - 13s 2s/step - loss: 0.8091 - iou_score: 0.7474 - f1-score: 0.8451 - val_loss: 0.8183 - val_iou_score: 0.7240 - val_f1-score: 0.8280\n",
            "Epoch 43/100\n",
            "8/8 [==============================] - 13s 2s/step - loss: 0.8085 - iou_score: 0.7429 - f1-score: 0.8382 - val_loss: 0.8121 - val_iou_score: 0.7430 - val_f1-score: 0.8388\n",
            "Epoch 44/100\n",
            "8/8 [==============================] - 13s 2s/step - loss: 0.8093 - iou_score: 0.7278 - f1-score: 0.8281 - val_loss: 0.8383 - val_iou_score: 0.6311 - val_f1-score: 0.7550\n",
            "Epoch 45/100\n",
            "8/8 [==============================] - 13s 2s/step - loss: 0.8126 - iou_score: 0.7295 - f1-score: 0.8278 - val_loss: 0.8092 - val_iou_score: 0.7558 - val_f1-score: 0.8511\n",
            "Epoch 46/100\n",
            "8/8 [==============================] - 13s 2s/step - loss: 0.8083 - iou_score: 0.7436 - f1-score: 0.8402 - val_loss: 0.8117 - val_iou_score: 0.7428 - val_f1-score: 0.8389\n",
            "Epoch 47/100\n",
            "8/8 [==============================] - 13s 2s/step - loss: 0.8070 - iou_score: 0.7499 - f1-score: 0.8458 - val_loss: 0.8345 - val_iou_score: 0.6448 - val_f1-score: 0.7636\n",
            "Epoch 48/100\n",
            "8/8 [==============================] - 13s 2s/step - loss: 0.8096 - iou_score: 0.7146 - f1-score: 0.8096 - val_loss: 0.8071 - val_iou_score: 0.7559 - val_f1-score: 0.8499\n",
            "Epoch 49/100\n",
            "8/8 [==============================] - 13s 2s/step - loss: 0.8077 - iou_score: 0.7344 - f1-score: 0.8342 - val_loss: 0.8070 - val_iou_score: 0.7567 - val_f1-score: 0.8505\n",
            "Epoch 50/100\n",
            "8/8 [==============================] - 13s 2s/step - loss: 0.8115 - iou_score: 0.7176 - f1-score: 0.8146 - val_loss: 0.8250 - val_iou_score: 0.6709 - val_f1-score: 0.7848\n",
            "Epoch 51/100\n",
            "8/8 [==============================] - 13s 2s/step - loss: 0.8094 - iou_score: 0.7220 - f1-score: 0.8211 - val_loss: 0.8091 - val_iou_score: 0.7385 - val_f1-score: 0.8327\n",
            "Epoch 52/100\n",
            "8/8 [==============================] - 13s 2s/step - loss: 0.8075 - iou_score: 0.7347 - f1-score: 0.8273 - val_loss: 0.8158 - val_iou_score: 0.7100 - val_f1-score: 0.8160\n",
            "Epoch 53/100\n",
            "8/8 [==============================] - 13s 2s/step - loss: 0.8086 - iou_score: 0.7401 - f1-score: 0.8379 - val_loss: 0.8058 - val_iou_score: 0.7507 - val_f1-score: 0.8461\n",
            "Epoch 54/100\n",
            "8/8 [==============================] - 13s 2s/step - loss: 0.8041 - iou_score: 0.7441 - f1-score: 0.8387 - val_loss: 0.8105 - val_iou_score: 0.7295 - val_f1-score: 0.8310\n",
            "Epoch 55/100\n",
            "8/8 [==============================] - 13s 2s/step - loss: 0.8038 - iou_score: 0.7506 - f1-score: 0.8440 - val_loss: 0.8054 - val_iou_score: 0.7503 - val_f1-score: 0.8465\n",
            "Epoch 56/100\n",
            "8/8 [==============================] - 13s 2s/step - loss: 0.8063 - iou_score: 0.7329 - f1-score: 0.8226 - val_loss: 0.8200 - val_iou_score: 0.6921 - val_f1-score: 0.8022\n",
            "Epoch 57/100\n",
            "8/8 [==============================] - 13s 2s/step - loss: 0.8036 - iou_score: 0.7448 - f1-score: 0.8361 - val_loss: 0.8091 - val_iou_score: 0.7327 - val_f1-score: 0.8289\n",
            "Epoch 58/100\n",
            "8/8 [==============================] - 13s 2s/step - loss: 0.8044 - iou_score: 0.7544 - f1-score: 0.8499 - val_loss: 0.8136 - val_iou_score: 0.7125 - val_f1-score: 0.8179\n",
            "Epoch 59/100\n",
            "8/8 [==============================] - 13s 2s/step - loss: 0.8023 - iou_score: 0.7449 - f1-score: 0.8392 - val_loss: 0.8179 - val_iou_score: 0.6944 - val_f1-score: 0.8036\n",
            "Epoch 60/100\n",
            "8/8 [==============================] - 13s 2s/step - loss: 0.8032 - iou_score: 0.7506 - f1-score: 0.8465 - val_loss: 0.8011 - val_iou_score: 0.7659 - val_f1-score: 0.8575\n",
            "Epoch 61/100\n",
            "8/8 [==============================] - 13s 2s/step - loss: 0.7995 - iou_score: 0.7726 - f1-score: 0.8623 - val_loss: 0.8146 - val_iou_score: 0.7052 - val_f1-score: 0.8150\n",
            "Epoch 62/100\n",
            "8/8 [==============================] - 13s 2s/step - loss: 0.7999 - iou_score: 0.7614 - f1-score: 0.8542 - val_loss: 0.8093 - val_iou_score: 0.7291 - val_f1-score: 0.8261\n",
            "Epoch 63/100\n",
            "8/8 [==============================] - 13s 2s/step - loss: 0.8016 - iou_score: 0.7422 - f1-score: 0.8313 - val_loss: 0.8119 - val_iou_score: 0.7195 - val_f1-score: 0.8236\n",
            "Epoch 64/100\n",
            "8/8 [==============================] - 13s 2s/step - loss: 0.7989 - iou_score: 0.7563 - f1-score: 0.8507 - val_loss: 0.8264 - val_iou_score: 0.6662 - val_f1-score: 0.7746\n",
            "Epoch 65/100\n",
            "8/8 [==============================] - 13s 2s/step - loss: 0.8016 - iou_score: 0.7523 - f1-score: 0.8454 - val_loss: 0.8114 - val_iou_score: 0.7249 - val_f1-score: 0.8270\n",
            "Epoch 66/100\n",
            "8/8 [==============================] - 13s 2s/step - loss: 0.7971 - iou_score: 0.7762 - f1-score: 0.8659 - val_loss: 0.8129 - val_iou_score: 0.7127 - val_f1-score: 0.8163\n",
            "Epoch 67/100\n",
            "8/8 [==============================] - 13s 2s/step - loss: 0.8014 - iou_score: 0.7402 - f1-score: 0.8277 - val_loss: 0.8008 - val_iou_score: 0.7662 - val_f1-score: 0.8562\n",
            "Epoch 68/100\n",
            "8/8 [==============================] - 13s 2s/step - loss: 0.8047 - iou_score: 0.7043 - f1-score: 0.7985 - val_loss: 0.8347 - val_iou_score: 0.6311 - val_f1-score: 0.7501\n",
            "Epoch 69/100\n",
            "8/8 [==============================] - 13s 2s/step - loss: 0.7970 - iou_score: 0.7581 - f1-score: 0.8452 - val_loss: 0.7996 - val_iou_score: 0.7658 - val_f1-score: 0.8572\n",
            "Epoch 70/100\n",
            "8/8 [==============================] - 13s 2s/step - loss: 0.7974 - iou_score: 0.7650 - f1-score: 0.8564 - val_loss: 0.8234 - val_iou_score: 0.6726 - val_f1-score: 0.7877\n",
            "Epoch 71/100\n",
            "8/8 [==============================] - 13s 2s/step - loss: 0.7986 - iou_score: 0.7655 - f1-score: 0.8564 - val_loss: 0.8022 - val_iou_score: 0.7566 - val_f1-score: 0.8486\n",
            "Epoch 72/100\n",
            "8/8 [==============================] - 13s 2s/step - loss: 0.8002 - iou_score: 0.7610 - f1-score: 0.8514 - val_loss: 0.8029 - val_iou_score: 0.7560 - val_f1-score: 0.8510\n",
            "Epoch 73/100\n",
            "8/8 [==============================] - 13s 2s/step - loss: 0.7957 - iou_score: 0.7755 - f1-score: 0.8657 - val_loss: 0.8048 - val_iou_score: 0.7455 - val_f1-score: 0.8423\n",
            "Epoch 74/100\n",
            "8/8 [==============================] - 13s 2s/step - loss: 0.8009 - iou_score: 0.7524 - f1-score: 0.8440 - val_loss: 0.8008 - val_iou_score: 0.7634 - val_f1-score: 0.8569\n",
            "Epoch 75/100\n",
            "8/8 [==============================] - 13s 2s/step - loss: 0.7924 - iou_score: 0.7918 - f1-score: 0.8766 - val_loss: 0.8036 - val_iou_score: 0.7491 - val_f1-score: 0.8458\n",
            "Epoch 76/100\n",
            "8/8 [==============================] - 13s 2s/step - loss: 0.7981 - iou_score: 0.7714 - f1-score: 0.8593 - val_loss: 0.8072 - val_iou_score: 0.7364 - val_f1-score: 0.8364\n",
            "Epoch 77/100\n",
            "8/8 [==============================] - 13s 2s/step - loss: 0.7990 - iou_score: 0.7414 - f1-score: 0.8366 - val_loss: 0.7998 - val_iou_score: 0.7671 - val_f1-score: 0.8572\n",
            "Epoch 78/100\n",
            "8/8 [==============================] - 13s 2s/step - loss: 0.7981 - iou_score: 0.7583 - f1-score: 0.8409 - val_loss: 0.8031 - val_iou_score: 0.7512 - val_f1-score: 0.8483\n",
            "Epoch 79/100\n",
            "8/8 [==============================] - 13s 2s/step - loss: 0.7934 - iou_score: 0.7736 - f1-score: 0.8606 - val_loss: 0.8016 - val_iou_score: 0.7563 - val_f1-score: 0.8498\n",
            "Epoch 80/100\n",
            "8/8 [==============================] - 13s 2s/step - loss: 0.7955 - iou_score: 0.7802 - f1-score: 0.8683 - val_loss: 0.8153 - val_iou_score: 0.7054 - val_f1-score: 0.8093\n",
            "Epoch 81/100\n",
            "8/8 [==============================] - 13s 2s/step - loss: 0.7968 - iou_score: 0.7738 - f1-score: 0.8630 - val_loss: 0.8004 - val_iou_score: 0.7645 - val_f1-score: 0.8537\n",
            "Epoch 82/100\n",
            "8/8 [==============================] - 13s 2s/step - loss: 0.7983 - iou_score: 0.7424 - f1-score: 0.8315 - val_loss: 0.8057 - val_iou_score: 0.7419 - val_f1-score: 0.8391\n",
            "Epoch 83/100\n",
            "8/8 [==============================] - 13s 2s/step - loss: 0.7948 - iou_score: 0.7760 - f1-score: 0.8649 - val_loss: 0.8105 - val_iou_score: 0.7194 - val_f1-score: 0.8230\n",
            "Epoch 84/100\n",
            "8/8 [==============================] - 13s 2s/step - loss: 0.7954 - iou_score: 0.7778 - f1-score: 0.8646 - val_loss: 0.8070 - val_iou_score: 0.7382 - val_f1-score: 0.8334\n",
            "Epoch 85/100\n",
            "8/8 [==============================] - 13s 2s/step - loss: 0.7936 - iou_score: 0.7791 - f1-score: 0.8651 - val_loss: 0.8070 - val_iou_score: 0.7379 - val_f1-score: 0.8351\n",
            "Epoch 86/100\n",
            "8/8 [==============================] - 13s 2s/step - loss: 0.7915 - iou_score: 0.7887 - f1-score: 0.8749 - val_loss: 0.8022 - val_iou_score: 0.7562 - val_f1-score: 0.8503\n",
            "Epoch 87/100\n",
            "8/8 [==============================] - 13s 2s/step - loss: 0.7937 - iou_score: 0.7849 - f1-score: 0.8697 - val_loss: 0.8139 - val_iou_score: 0.7108 - val_f1-score: 0.8160\n",
            "Epoch 88/100\n",
            "8/8 [==============================] - 13s 2s/step - loss: 0.7919 - iou_score: 0.7876 - f1-score: 0.8722 - val_loss: 0.8109 - val_iou_score: 0.7267 - val_f1-score: 0.8180\n",
            "Epoch 89/100\n",
            "8/8 [==============================] - 13s 2s/step - loss: 0.7901 - iou_score: 0.8002 - f1-score: 0.8826 - val_loss: 0.8030 - val_iou_score: 0.7532 - val_f1-score: 0.8490\n",
            "Epoch 90/100\n",
            "8/8 [==============================] - 13s 2s/step - loss: 0.7955 - iou_score: 0.7836 - f1-score: 0.8693 - val_loss: 0.8212 - val_iou_score: 0.6911 - val_f1-score: 0.7932\n",
            "Epoch 91/100\n",
            "8/8 [==============================] - 13s 2s/step - loss: 0.7963 - iou_score: 0.7764 - f1-score: 0.8626 - val_loss: 0.7989 - val_iou_score: 0.7702 - val_f1-score: 0.8588\n",
            "Epoch 92/100\n",
            "8/8 [==============================] - 13s 2s/step - loss: 0.7934 - iou_score: 0.7694 - f1-score: 0.8604 - val_loss: 0.8076 - val_iou_score: 0.7313 - val_f1-score: 0.8334\n",
            "Epoch 93/100\n",
            "8/8 [==============================] - 13s 2s/step - loss: 0.7919 - iou_score: 0.7956 - f1-score: 0.8790 - val_loss: 0.7997 - val_iou_score: 0.7678 - val_f1-score: 0.8575\n",
            "Epoch 94/100\n",
            "8/8 [==============================] - 13s 2s/step - loss: 0.7912 - iou_score: 0.7945 - f1-score: 0.8784 - val_loss: 0.8007 - val_iou_score: 0.7641 - val_f1-score: 0.8540\n",
            "Epoch 95/100\n",
            "8/8 [==============================] - 13s 2s/step - loss: 0.7914 - iou_score: 0.7917 - f1-score: 0.8751 - val_loss: 0.7984 - val_iou_score: 0.7732 - val_f1-score: 0.8625\n",
            "Epoch 96/100\n",
            "8/8 [==============================] - 13s 2s/step - loss: 0.7965 - iou_score: 0.7744 - f1-score: 0.8584 - val_loss: 0.8070 - val_iou_score: 0.7428 - val_f1-score: 0.8343\n",
            "Epoch 97/100\n",
            "8/8 [==============================] - 13s 2s/step - loss: 0.7903 - iou_score: 0.7942 - f1-score: 0.8763 - val_loss: 0.8012 - val_iou_score: 0.7625 - val_f1-score: 0.8521\n",
            "Epoch 98/100\n",
            "8/8 [==============================] - 13s 2s/step - loss: 0.7877 - iou_score: 0.8082 - f1-score: 0.8868 - val_loss: 0.7983 - val_iou_score: 0.7725 - val_f1-score: 0.8625\n",
            "Epoch 99/100\n",
            "8/8 [==============================] - 13s 2s/step - loss: 0.7897 - iou_score: 0.7820 - f1-score: 0.8629 - val_loss: 0.8079 - val_iou_score: 0.7368 - val_f1-score: 0.8331\n",
            "Epoch 100/100\n",
            "8/8 [==============================] - 13s 2s/step - loss: 0.7901 - iou_score: 0.7924 - f1-score: 0.8769 - val_loss: 0.7976 - val_iou_score: 0.7765 - val_f1-score: 0.8641\n"
          ]
        }
      ]
    },
    {
      "cell_type": "markdown",
      "source": [
        "Always save the model"
      ],
      "metadata": {
        "id": "vPi-1ICCtPN2"
      }
    },
    {
      "cell_type": "code",
      "source": [
        "model.save('/content/drive/MyDrive/3d_unet_sandstone.h5') # save it to the drive"
      ],
      "metadata": {
        "id": "yHvIwyRStSRk"
      },
      "execution_count": 39,
      "outputs": []
    },
    {
      "cell_type": "markdown",
      "source": [
        "Visualize the performance"
      ],
      "metadata": {
        "id": "T-9aoRRmtiNZ"
      }
    },
    {
      "cell_type": "code",
      "source": [
        "loss = history.history['loss']\n",
        "val_loss = history.history['val_loss']\n",
        "epochs = range(1, len(loss)+1)\n",
        "plt.plot(epochs, loss, 'y', label='Training Loss')\n",
        "plt.plot(epochs, val_loss, 'r', label='Validation Loss')\n",
        "plt.title('Training and Validation loss')\n",
        "plt.xlabel('Epochs')\n",
        "plt.ylabel('Loss')\n",
        "plt.legend()\n",
        "plt.show()\n",
        "\n",
        "iou = history.history['iou_score']\n",
        "val_iou = history.history['val_iou_score']\n",
        "plt.plot(epochs, loss, 'y', label='Training IOU')\n",
        "plt.plot(epochs, val_loss, 'r', label='Validation IOU')\n",
        "plt.title('Training and Validation IOU')\n",
        "plt.xlabel('Epochs')\n",
        "plt.ylabel('IOU')\n",
        "plt.legend()\n",
        "plt.show()"
      ],
      "metadata": {
        "colab": {
          "base_uri": "https://localhost:8080/",
          "height": 927
        },
        "id": "1r1dlBVsth0H",
        "outputId": "d1816367-bb98-4804-aa71-ccf7f97d5909"
      },
      "execution_count": 41,
      "outputs": [
        {
          "output_type": "display_data",
          "data": {
            "text/plain": [
              "<Figure size 640x480 with 1 Axes>"
            ],
            "image/png": "[encoded data removed]"
          },
          "metadata": {}
        },
        {
          "output_type": "display_data",
          "data": {
            "text/plain": [
              "<Figure size 640x480 with 1 Axes>"
            ],
            "image/png": "[encoded data removed]"
          },
          "metadata": {}
        }
      ]
    },
    {
      "cell_type": "markdown",
      "source": [
        "Predictions"
      ],
      "metadata": {
        "id": "nssRjtBdvU00"
      }
    },
    {
      "cell_type": "code",
      "source": [
        "# Load the model\n",
        "from keras.models import load_model\n",
        "# my_model = load_model('/content/drive/MyDrive/3d_unet_sandstone.h5')\n",
        "\n",
        "# Prediction\n",
        "y_pred = model.predict(X_test)\n",
        "y_pred_argmax = np.argmax(y_pred, axis=4)\n",
        "y_true_argmax = np.argmax(y_test, axis=4)"
      ],
      "metadata": {
        "colab": {
          "base_uri": "https://localhost:8080/"
        },
        "id": "Sko2LGkHvWn7",
        "outputId": "17e27948-a83d-4af5-85ed-e27ad188945a"
      },
      "execution_count": 46,
      "outputs": [
        {
          "output_type": "stream",
          "name": "stdout",
          "text": [
            "1/1 [==============================] - 1s 1s/step\n"
          ]
        }
      ]
    },
    {
      "cell_type": "markdown",
      "source": [
        "Testing"
      ],
      "metadata": {
        "id": "-wIx3XMRwIMi"
      }
    },
    {
      "cell_type": "code",
      "source": [
        "import random\n",
        "im_number = random.randint(0, len(X_test))\n",
        "test_img = X_test[im_number]\n",
        "ground_truth = y_test[im_number]\n",
        "\n",
        "test_img_prep = np.expand_dims(test_img, 0)\n",
        "test_img_prep = preprocess_input(test_img_prep)\n",
        "test_prediction = model.predict(test_img_prep)\n",
        "test_prediction_argmax = np.argmax(test_prediction, axis=4)[0,:,:,:]\n",
        "\n",
        "ground_truth_argmax = np.argmax(ground_truth, axis=3)"
      ],
      "metadata": {
        "colab": {
          "base_uri": "https://localhost:8080/"
        },
        "id": "gVLwsXZAwNuk",
        "outputId": "a1921d55-00ea-400b-e03c-15baf4adbbf6"
      },
      "execution_count": 47,
      "outputs": [
        {
          "output_type": "stream",
          "name": "stdout",
          "text": [
            "1/1 [==============================] - 2s 2s/step\n"
          ]
        }
      ]
    },
    {
      "cell_type": "code",
      "source": [
        "slice = 1\n",
        "plt.figure(figsize=(12, 8))\n",
        "plt.subplot(1,3,1)\n",
        "plt.title('Testing_input_image')\n",
        "plt.imshow(test_img[slice,:,:,0], cmap='gray')\n",
        "plt.subplot(1,3,2)\n",
        "plt.title('Testing_prediction')\n",
        "plt.imshow(test_prediction_argmax[slice,:,:], cmap='gray')\n",
        "plt.subplot(1,3,3)\n",
        "plt.title('Testing_ground_truth')\n",
        "plt.imshow(ground_truth_argmax[slice,:,:], cmap='gray')\n",
        "plt.show()"
      ],
      "metadata": {
        "colab": {
          "base_uri": "https://localhost:8080/",
          "height": 344
        },
        "id": "x_O8uxspx77z",
        "outputId": "5004e65c-6a8b-447d-e426-4e7098e2bd8d"
      },
      "execution_count": 56,
      "outputs": [
        {
          "output_type": "display_data",
          "data": {
            "text/plain": [
              "<Figure size 1200x800 with 3 Axes>"
            ],
            "image/png": "[encoded data removed]"
          },
          "metadata": {}
        }
      ]
    },
    {
      "cell_type": "markdown",
      "source": [
        "Segment a whole image using the trained and tested model"
      ],
      "metadata": {
        "id": "PqFAHZwezmck"
      }
    },
    {
      "cell_type": "code",
      "source": [
        "im_path = '/content/sandstone_data_for_ML/sandstone_data_for_ML/data_for_3D_Unet/448_images_512x512.tif'\n",
        "image_to_segment = io.imread(im_path)\n",
        "patches = patchify(image_to_segment, (64,64, 64), step=64)"
      ],
      "metadata": {
        "id": "qCYoi-YN0Lmp"
      },
      "execution_count": 58,
      "outputs": []
    },
    {
      "cell_type": "code",
      "source": [
        "# Predict each 3D patches\n",
        "predicted_patches = []\n",
        "for i in range(patches.shape[0]):\n",
        "  for j in range(patches.shape[1]):\n",
        "    for k in range(patches.shape[2]):\n",
        "      patch = patches[i,j,k,:,:,:]\n",
        "      patch = np.stack((patch,)*3, axis=-1)\n",
        "      patch_prep = preprocess_input(np.expand_dims(patch, axis=0))\n",
        "      patch_pred = model.predict(patch_prep)\n",
        "      patch_pred_argmax = np.argmax(patch_pred, axis=4)[0,:,:,:]\n",
        "      predicted_patches.append(patch_pred_argmax)\n",
        "\n",
        "# list to array\n",
        "predicted_patches = np.array(predicted_patches)\n",
        "predicted_patches = np.reshape(predicted_patches, (patches.shape[0],patches.shape[1],patches.shape[2],patches.shape[3],patches.shape[4],patches.shape[5]))\n",
        "# unpatchify\n",
        "reconstrucuted_image = unpatchify(predicted_patches, image_to_segment.shape)"
      ],
      "metadata": {
        "id": "3-npm3_g1Y3r"
      },
      "execution_count": null,
      "outputs": []
    },
    {
      "cell_type": "code",
      "source": [
        "reconstruted_image = reconstrucuted_image.astype(np.uint8)"
      ],
      "metadata": {
        "id": "F2cPJnVoK_zH"
      },
      "execution_count": 62,
      "outputs": []
    },
    {
      "cell_type": "markdown",
      "source": [
        "Save the resultant image"
      ],
      "metadata": {
        "id": "sLlogN5n7Cpc"
      }
    },
    {
      "cell_type": "code",
      "source": [
        "from tifffile import imsave\n",
        "imsave('/content/drive/MyDrive/3d_unet_sandstone.tif', reconstrucuted_image)"
      ],
      "metadata": {
        "colab": {
          "base_uri": "https://localhost:8080/"
        },
        "id": "67S8tKRP7FLn",
        "outputId": "ad3c363b-8fc5-4f28-ff25-fb4b58bdb8e6"
      },
      "execution_count": 63,
      "outputs": [
        {
          "output_type": "stream",
          "name": "stderr",
          "text": [
            "<ipython-input-63-5108392f144b>:2: DeprecationWarning: <tifffile.imsave> is deprecated. Use tifffile.imwrite\n",
            "  imsave('/content/drive/MyDrive/3d_unet_sandstone.tif', reconstrucuted_image)\n"
          ]
        }
      ]
    },
    {
      "cell_type": "code",
      "source": [],
      "metadata": {
        "id": "6pvMXvlH7e92"
      },
      "execution_count": null,
      "outputs": []
    },
    {
      "cell_type": "markdown",
      "source": [
        "#Author: Dr. Sreenivas Bhattiprolu"
      ],
      "metadata": {
        "id": "6P7H8HLiz50C"
      }
    }
  ]
}